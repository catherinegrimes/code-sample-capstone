{
 "cells": [
  {
   "cell_type": "code",
   "execution_count": 118,
   "id": "1220754c",
   "metadata": {},
   "outputs": [
    {
     "name": "stderr",
     "output_type": "stream",
     "text": [
      "[nltk_data] Downloading package words to\n",
      "[nltk_data]     /Users/catherinegrimes/nltk_data...\n",
      "[nltk_data]   Package words is already up-to-date!\n"
     ]
    }
   ],
   "source": [
    "import pandas as pd\n",
    "import numpy as np\n",
    "import re\n",
    "from datetime import datetime"
   ]
  },
  {
   "cell_type": "code",
   "execution_count": 119,
   "id": "f7d2544b",
   "metadata": {},
   "outputs": [],
   "source": [
    "df_billboard = pd.read_csv('data/Hot 100.csv')"
   ]
  },
  {
   "cell_type": "code",
   "execution_count": 120,
   "id": "421dc5d7",
   "metadata": {},
   "outputs": [],
   "source": [
    "df_tracks = pd.read_csv('data/tracks.csv')"
   ]
  },
  {
   "cell_type": "code",
   "execution_count": 121,
   "id": "684068a5",
   "metadata": {},
   "outputs": [],
   "source": [
    "df_artists = pd.read_csv('data/artists.csv')"
   ]
  },
  {
   "cell_type": "code",
   "execution_count": 122,
   "id": "6ffec2a6",
   "metadata": {},
   "outputs": [],
   "source": [
    "df_tracks.fillna('NAN', inplace = True)"
   ]
  },
  {
   "cell_type": "code",
   "execution_count": 123,
   "id": "8a39a998",
   "metadata": {},
   "outputs": [],
   "source": [
    "#clean\n",
    "\n",
    "df_billboard['performer'] = [utils.default_process(performer) for performer in df_billboard.performer]\n",
    "df_billboard['song'] = [utils.default_process(song) for song in df_billboard.song]\n",
    "df_tracks['artists'] = [utils.default_process(artist) for artist in df_tracks.artists]\n",
    "df_tracks['name'] = [utils.default_process(name) for name in df_tracks.name]\n",
    "df_tracks['id_artists'] = [re.sub(r'[^0-9a-zA-Z]', '', name) for name in df_tracks.id_artists]"
   ]
  },
  {
   "cell_type": "code",
   "execution_count": 124,
   "id": "13ef07ce",
   "metadata": {},
   "outputs": [],
   "source": [
    "#clean genres column, 40 most common, pick first from list as the singular genre\n",
    "\n",
    "df_artists['genres'] = [re.sub(r'[^\\w\\s,]', '', genre) for genre in df_artists['genres']]\n",
    "df_artists['genres'] = [genre.split(',') for genre in df_artists['genres']]\n",
    "max_length = max(len(sublist) for sublist in df_artists['genres'])\n",
    "padded_list = [sublist + [None] * (max_length - len(sublist)) for sublist in df_artists['genres']]\n",
    "flattened_padded_list = [item for sublist in padded_list for item in sublist if item is not None]\n",
    "\n",
    "classes, counts = np.unique(flattened_padded_list, return_counts=True)\n",
    "\n",
    "\n",
    "element_count_pairs = list(zip(classes, counts))\n",
    "element_count_pairs.sort(reverse=True, key=lambda x: x[1])\n",
    "\n",
    "top_genres = [element for element, count in element_count_pairs[:41]]\n",
    "top_genres = top_genres[1:]\n",
    "\n",
    "df_artists = df_artists[[any(item in top_genres for item in row) for row in df_artists['genres']]]\n",
    "df_artists['genres'] = [[item for item in row if item in top_genres] for row in df_artists['genres']]\n",
    "df_artists['genre'] = [x[0] for x in df_artists['genres']]"
   ]
  },
  {
   "cell_type": "code",
   "execution_count": 125,
   "id": "4a794091",
   "metadata": {},
   "outputs": [],
   "source": [
    "#remove extra white space\n",
    "\n",
    "df_tracks['artists'] = [' '.join(artist.split()) for artist in df_tracks.artists]\n",
    "df_tracks['name'] = [' '.join(name.split()) for name in df_tracks.name]\n",
    "df_billboard['performer'] = [' '.join(performer.split()) for performer in df_billboard.performer]\n",
    "df_billboard['song'] = [' '.join(song.split()) for song in df_billboard.song]\n",
    "df_artists['genre'] = [' '.join(genre.split()) for genre in df_artists.genre]"
   ]
  },
  {
   "cell_type": "code",
   "execution_count": 126,
   "id": "10b2dc94",
   "metadata": {},
   "outputs": [],
   "source": [
    "#specific problems\n",
    "\n",
    "df_billboard['performer'] = [re.sub(r'Sylvia\\s\\(r&b\\)', 'Sylvia', performer) for performer \n",
    "                             in df_billboard.performer]\n",
    "df_billboard['performer'] = [re.sub(r'\\(The Preacher\\)\\sBobby Womack', 'Bobby Womack', performer) for performer \n",
    "                             in df_billboard.performer]\n",
    "df_tracks['name'] = [re.sub(r'bei\\smir\\sbist\\sdu\\sschoen', 'bei mir bist du schön', name) \n",
    "                     for name in df_tracks.name]\n",
    "df_tracks['name'] = [re.sub(r'bei\\smir\\sbist\\sdu\\sschon', 'bei mir bist du schön', name) \n",
    "                     for name in df_tracks.name]\n",
    "df_tracks['name'] = [re.sub(r'bei\\smir\\sbist\\sdu\\sscheen', 'bei mir bist du schön', name) \n",
    "                     for name in df_tracks.name]\n",
    "df_tracks['artists'] = [re.sub(r'p\\snk', 'pink', artist) for artist in df_tracks.artists]\n",
    "df_billboard['performer'] = [re.sub(r'p\\snk', 'pink', performer) for performer in df_billboard.performer]"
   ]
  },
  {
   "cell_type": "code",
   "execution_count": 127,
   "id": "27c32c56",
   "metadata": {},
   "outputs": [],
   "source": [
    "#multiple artists\n",
    "\n",
    "df_tracks['artists'] = [re.sub(r'featuring', '', artist) for artist in df_tracks.artists]\n",
    "df_tracks['artists'] = [re.sub(r'\\sfeat(?!\\s*$)', '', artist) for artist in df_tracks.artists]\n",
    "df_tracks['artists'] = [re.sub(r'with\\s', '', artist) for artist in df_tracks.artists]\n",
    "df_billboard['performer'] = [re.sub(r'featuring', '', performer) for performer in df_billboard.performer]\n",
    "df_billboard['performer'] = [re.sub(r'with\\s', '', performer) for performer in df_billboard.performer]"
   ]
  },
  {
   "cell_type": "code",
   "execution_count": 128,
   "id": "6733259a",
   "metadata": {},
   "outputs": [],
   "source": [
    "#condense billboard data: only until first drop off the charts, find row of peak position\n",
    "\n",
    "df_billboard = df_billboard[df_billboard['instance'] == 1]\n",
    "df_billboard['time_on_chart'] = df_billboard.groupby('song_id')['time_on_chart'].transform('max')\n",
    "df_billboard = df_billboard.loc[df_billboard.groupby('song_id')['peak_position'].idxmin()]"
   ]
  },
  {
   "cell_type": "code",
   "execution_count": 129,
   "id": "fb1a96d5",
   "metadata": {},
   "outputs": [],
   "source": [
    "df = df_tracks.merge(df_billboard, how = 'left', left_on = ['name', 'artists'], right_on = ['song', 'performer'])"
   ]
  },
  {
   "cell_type": "code",
   "execution_count": 130,
   "id": "c7163eac",
   "metadata": {},
   "outputs": [],
   "source": [
    "df = df.merge(df_artists, how = 'left', left_on = 'id_artists', right_on = 'id')"
   ]
  },
  {
   "cell_type": "code",
   "execution_count": 131,
   "id": "409576d4",
   "metadata": {},
   "outputs": [],
   "source": [
    "df = df.dropna(subset = ['genre'])"
   ]
  },
  {
   "cell_type": "code",
   "execution_count": 132,
   "id": "9a7d8c3e",
   "metadata": {},
   "outputs": [],
   "source": [
    "#drop rows without exact release date, chop up into day and month\n",
    "\n",
    "df = df[df['release_date'].str.len() == 10]\n",
    "df['peak_date'] = pd.to_datetime(df['chart_date'])\n",
    "df['chart_debut'] = pd.to_datetime(df['chart_debut'])\n",
    "df['release_date'] = pd.to_datetime(df['release_date'])\n",
    "df['release_month'] = df['release_date'].dt.month\n",
    "df['release_day'] = df['release_date'].dt.day\n",
    "df['no_year'] = df['release_date'].dt.strftime('%m-%d')\n",
    "df['year'] = df['release_date'].dt.year"
   ]
  },
  {
   "cell_type": "code",
   "execution_count": 133,
   "id": "30da278a",
   "metadata": {},
   "outputs": [],
   "source": [
    "#remove re-releases: take earliest release\n",
    "\n",
    "df = df.loc[df.groupby(['name_x', 'artists'])['release_date'].idxmin()]"
   ]
  },
  {
   "cell_type": "code",
   "execution_count": 134,
   "id": "609a8b58",
   "metadata": {},
   "outputs": [],
   "source": [
    "#create season variable\n",
    "\n",
    "df['season'] = pd.cut(x = df['release_month'], bins = [1, 5, 8, 11], labels = ['Spring', 'Summer', 'Fall'])\n",
    "df['season'] = df['season'].cat.add_categories('Winter')\n",
    "df['season'] = df['season'].fillna('Winter')"
   ]
  },
  {
   "cell_type": "code",
   "execution_count": 135,
   "id": "b7f4ef9c",
   "metadata": {},
   "outputs": [],
   "source": [
    "#create day of week variable for release date\n",
    "\n",
    "df['weekday'] = [date.weekday() for date in df['release_date']]\n",
    "df['weekday'] = pd.cut(x = df['weekday'], bins = 7, labels = ['Monday', 'Tuesday', 'Wednesday', 'Thursday', \n",
    "                                                                 'Friday', 'Saturday', 'Sunday'])"
   ]
  },
  {
   "cell_type": "code",
   "execution_count": 136,
   "id": "5aba085c",
   "metadata": {},
   "outputs": [],
   "source": [
    "#binary for charting\n",
    "\n",
    "df['charted'] = np.where(df['chart_debut'].isna(), 0, 1)"
   ]
  },
  {
   "cell_type": "code",
   "execution_count": 137,
   "id": "d8134d5a",
   "metadata": {},
   "outputs": [],
   "source": [
    "#organizing\n",
    "\n",
    "df = df.drop(columns = ['explicit', 'chart_url', 'previous_week', 'time_signature', 'liveness', 'speechiness', \n",
    "                        'mode','loudness', 'key', 'instance', 'acousticness', 'artists', \n",
    "                        'popularity_x','instrumentalness', 'tempo', 'id_x', 'id_y', 'id_artists', 'name_x', \n",
    "                        'performer', 'danceability', 'followers', 'consecutive_weeks', 'song_id', 'chart_position',\n",
    "                       'genres', 'worst_position'])\n",
    "df = df.rename(columns = {'name_y': 'artist', 'popularity_y': 'superstar', 'time_on_chart': 'weeks_on_chart'})\n",
    "df = pd.concat([df[['song', 'artist', 'release_date', 'charted']], \n",
    "                df.drop(['song', 'artist', 'release_date', 'charted'], axis = 1)], axis = 1)"
   ]
  },
  {
   "cell_type": "code",
   "execution_count": 138,
   "id": "7ad8507c",
   "metadata": {},
   "outputs": [],
   "source": [
    "df['weeks_on_chart'] = np.where(df['weeks_on_chart'].isna(), 0, df['weeks_on_chart'])\n",
    "df['song'] = np.where(df['song'].isna(), 'symbol', df['song'])\n",
    "df['chart_date'].fillna('NAN', inplace = True)"
   ]
  },
  {
   "cell_type": "code",
   "execution_count": 139,
   "id": "d6552aff",
   "metadata": {},
   "outputs": [],
   "source": [
    "df.to_csv('working.csv')"
   ]
  }
 ],
 "metadata": {
  "kernelspec": {
   "display_name": "Python 3 (ipykernel)",
   "language": "python",
   "name": "python3"
  },
  "language_info": {
   "codemirror_mode": {
    "name": "ipython",
    "version": 3
   },
   "file_extension": ".py",
   "mimetype": "text/x-python",
   "name": "python",
   "nbconvert_exporter": "python",
   "pygments_lexer": "ipython3",
   "version": "3.11.4"
  }
 },
 "nbformat": 4,
 "nbformat_minor": 5
}
